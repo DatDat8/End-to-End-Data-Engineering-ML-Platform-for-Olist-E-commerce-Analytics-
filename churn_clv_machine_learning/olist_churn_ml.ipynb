{
 "cells": [
  {
   "cell_type": "code",
   "execution_count": 13,
   "id": "ed5121a4-31a2-423d-89d9-bc8771c63fdd",
   "metadata": {
    "tags": []
   },
   "outputs": [],
   "source": [
    "import os\n",
    "import argparse\n",
    "import tempfile\n",
    "import json\n",
    "import numpy as np\n",
    "import pandas as pd\n",
    "import matplotlib.pyplot as plt\n",
    "from google.cloud import bigquery, storage\n",
    "from sklearn.model_selection import train_test_split\n",
    "from sklearn.metrics import roc_auc_score, average_precision_score, precision_recall_fscore_support\n",
    "import xgboost as xgb\n",
    "# import mlflow\n",
    "# import mlflow.xgboost\n",
    "import joblib\n",
    "import logging"
   ]
  },
  {
   "cell_type": "markdown",
   "id": "a5fd6233-c314-47c1-a20f-72ca5ee7c73b",
   "metadata": {},
   "source": [
    "## Loading Transformed & Engineered Features Data from the BigQuery Warehouse"
   ]
  },
  {
   "cell_type": "code",
   "execution_count": 1,
   "id": "25efc762-1c9b-4c1b-af45-5ab1c68dd775",
   "metadata": {
    "tags": []
   },
   "outputs": [
    {
     "name": "stdout",
     "output_type": "stream",
     "text": [
      "Loaded 68343 rows for training.\n"
     ]
    },
    {
     "data": {
      "text/html": [
       "<div>\n",
       "<style scoped>\n",
       "    .dataframe tbody tr th:only-of-type {\n",
       "        vertical-align: middle;\n",
       "    }\n",
       "\n",
       "    .dataframe tbody tr th {\n",
       "        vertical-align: top;\n",
       "    }\n",
       "\n",
       "    .dataframe thead th {\n",
       "        text-align: right;\n",
       "    }\n",
       "</style>\n",
       "<table border=\"1\" class=\"dataframe\">\n",
       "  <thead>\n",
       "    <tr style=\"text-align: right;\">\n",
       "      <th></th>\n",
       "      <th>customer_unique_id</th>\n",
       "      <th>last_purchase</th>\n",
       "      <th>num_orders</th>\n",
       "      <th>distinct_categories</th>\n",
       "      <th>avg_order_value</th>\n",
       "      <th>lifetime_value</th>\n",
       "      <th>avg_basket_size</th>\n",
       "      <th>pct_on_time</th>\n",
       "      <th>avg_review_score</th>\n",
       "      <th>pct_negative_reviews</th>\n",
       "      <th>distinct_payment_types</th>\n",
       "      <th>days_since_last_purchase</th>\n",
       "      <th>num_orders_180d</th>\n",
       "      <th>ltv_180d</th>\n",
       "      <th>num_canceled_orders</th>\n",
       "      <th>churn_flag</th>\n",
       "    </tr>\n",
       "  </thead>\n",
       "  <tbody>\n",
       "    <tr>\n",
       "      <th>0</th>\n",
       "      <td>39ce02a045b8e7b0329984df3109957b</td>\n",
       "      <td>2017-09-27 20:46:43</td>\n",
       "      <td>2</td>\n",
       "      <td>1</td>\n",
       "      <td>57.0</td>\n",
       "      <td>113.56</td>\n",
       "      <td>1.0</td>\n",
       "      <td>1.000000</td>\n",
       "      <td>5.0</td>\n",
       "      <td>0.0</td>\n",
       "      <td>1</td>\n",
       "      <td>205</td>\n",
       "      <td>0</td>\n",
       "      <td>0.00</td>\n",
       "      <td>0</td>\n",
       "      <td>1</td>\n",
       "    </tr>\n",
       "    <tr>\n",
       "      <th>1</th>\n",
       "      <td>ef3b6ab8a1704ead096adbcdee78284b</td>\n",
       "      <td>2018-03-10 19:52:26</td>\n",
       "      <td>2</td>\n",
       "      <td>2</td>\n",
       "      <td>166.0</td>\n",
       "      <td>496.97</td>\n",
       "      <td>1.0</td>\n",
       "      <td>0.333333</td>\n",
       "      <td>5.0</td>\n",
       "      <td>0.0</td>\n",
       "      <td>2</td>\n",
       "      <td>41</td>\n",
       "      <td>2</td>\n",
       "      <td>496.97</td>\n",
       "      <td>0</td>\n",
       "      <td>1</td>\n",
       "    </tr>\n",
       "    <tr>\n",
       "      <th>2</th>\n",
       "      <td>6e26bbeaa107ec34112c64e1ee31c0f5</td>\n",
       "      <td>2018-01-02 19:00:43</td>\n",
       "      <td>2</td>\n",
       "      <td>2</td>\n",
       "      <td>721.0</td>\n",
       "      <td>1441.62</td>\n",
       "      <td>1.0</td>\n",
       "      <td>0.500000</td>\n",
       "      <td>5.0</td>\n",
       "      <td>0.0</td>\n",
       "      <td>1</td>\n",
       "      <td>108</td>\n",
       "      <td>1</td>\n",
       "      <td>1376.45</td>\n",
       "      <td>0</td>\n",
       "      <td>1</td>\n",
       "    </tr>\n",
       "    <tr>\n",
       "      <th>3</th>\n",
       "      <td>f95de29d9e810e69f55626ff1bbd4d60</td>\n",
       "      <td>2018-01-06 17:48:38</td>\n",
       "      <td>2</td>\n",
       "      <td>1</td>\n",
       "      <td>63.0</td>\n",
       "      <td>126.26</td>\n",
       "      <td>1.0</td>\n",
       "      <td>1.000000</td>\n",
       "      <td>5.0</td>\n",
       "      <td>0.0</td>\n",
       "      <td>1</td>\n",
       "      <td>104</td>\n",
       "      <td>2</td>\n",
       "      <td>126.26</td>\n",
       "      <td>0</td>\n",
       "      <td>1</td>\n",
       "    </tr>\n",
       "    <tr>\n",
       "      <th>4</th>\n",
       "      <td>ccc3e3aa5b39011a6b206229fb9b4383</td>\n",
       "      <td>2017-12-16 18:51:09</td>\n",
       "      <td>2</td>\n",
       "      <td>2</td>\n",
       "      <td>72.0</td>\n",
       "      <td>144.37</td>\n",
       "      <td>1.0</td>\n",
       "      <td>0.500000</td>\n",
       "      <td>5.0</td>\n",
       "      <td>0.0</td>\n",
       "      <td>1</td>\n",
       "      <td>125</td>\n",
       "      <td>2</td>\n",
       "      <td>144.37</td>\n",
       "      <td>0</td>\n",
       "      <td>1</td>\n",
       "    </tr>\n",
       "  </tbody>\n",
       "</table>\n",
       "</div>"
      ],
      "text/plain": [
       "                 customer_unique_id       last_purchase  num_orders  \\\n",
       "0  39ce02a045b8e7b0329984df3109957b 2017-09-27 20:46:43           2   \n",
       "1  ef3b6ab8a1704ead096adbcdee78284b 2018-03-10 19:52:26           2   \n",
       "2  6e26bbeaa107ec34112c64e1ee31c0f5 2018-01-02 19:00:43           2   \n",
       "3  f95de29d9e810e69f55626ff1bbd4d60 2018-01-06 17:48:38           2   \n",
       "4  ccc3e3aa5b39011a6b206229fb9b4383 2017-12-16 18:51:09           2   \n",
       "\n",
       "   distinct_categories  avg_order_value  lifetime_value  avg_basket_size  \\\n",
       "0                    1             57.0          113.56              1.0   \n",
       "1                    2            166.0          496.97              1.0   \n",
       "2                    2            721.0         1441.62              1.0   \n",
       "3                    1             63.0          126.26              1.0   \n",
       "4                    2             72.0          144.37              1.0   \n",
       "\n",
       "   pct_on_time  avg_review_score  pct_negative_reviews  \\\n",
       "0     1.000000               5.0                   0.0   \n",
       "1     0.333333               5.0                   0.0   \n",
       "2     0.500000               5.0                   0.0   \n",
       "3     1.000000               5.0                   0.0   \n",
       "4     0.500000               5.0                   0.0   \n",
       "\n",
       "   distinct_payment_types  days_since_last_purchase  num_orders_180d  \\\n",
       "0                       1                       205                0   \n",
       "1                       2                        41                2   \n",
       "2                       1                       108                1   \n",
       "3                       1                       104                2   \n",
       "4                       1                       125                2   \n",
       "\n",
       "   ltv_180d  num_canceled_orders  churn_flag  \n",
       "0      0.00                    0           1  \n",
       "1    496.97                    0           1  \n",
       "2   1376.45                    0           1  \n",
       "3    126.26                    0           1  \n",
       "4    144.37                    0           1  "
      ]
     },
     "execution_count": 1,
     "metadata": {},
     "output_type": "execute_result"
    }
   ],
   "source": [
    "from google.cloud import bigquery\n",
    "import pandas as pd\n",
    "\n",
    "# Initialize BigQuery client (assumes your notebook is authenticated)\n",
    "client = bigquery.Client()\n",
    "\n",
    "# Define your project and table details\n",
    "PROJECT_ID = \"olist-ecommerce-dw\"  # Replace with your Project ID\n",
    "DATASET_ID = \"gold\"\n",
    "TABLE_ID = \"agg_churn_features\" # Your final table name\n",
    "\n",
    "# Query to select all data from the training table\n",
    "QUERY = f\"\"\"\n",
    "    SELECT *\n",
    "    FROM `{PROJECT_ID}.{DATASET_ID}.{TABLE_ID}`\n",
    "    WHERE churn_flag IS NOT NULL \n",
    "      -- Exclude rows where features are null due to insufficient lookback (optional but safe)\n",
    "\"\"\"\n",
    "\n",
    "# Run the query and load the result into a Pandas DataFrame\n",
    "df = client.query(QUERY).to_dataframe()\n",
    "\n",
    "print(f\"Loaded {len(df)} rows for training.\")\n",
    "df.head()\n"
   ]
  },
  {
   "cell_type": "code",
   "execution_count": 82,
   "id": "ff4c7ccd-7028-42a5-81ff-c7f86e959477",
   "metadata": {
    "tags": []
   },
   "outputs": [
    {
     "data": {
      "text/plain": [
       "(95419, 16)"
      ]
     },
     "execution_count": 82,
     "metadata": {},
     "output_type": "execute_result"
    }
   ],
   "source": [
    "df.shape"
   ]
  },
  {
   "cell_type": "code",
   "execution_count": 126,
   "id": "3556cf81-1cc9-44b6-af29-786ff79f3e2b",
   "metadata": {
    "tags": []
   },
   "outputs": [
    {
     "data": {
      "text/plain": [
       "Index(['customer_unique_id', 'last_purchase', 'num_orders',\n",
       "       'distinct_categories', 'avg_order_value', 'lifetime_value',\n",
       "       'avg_basket_size', 'pct_on_time', 'avg_review_score',\n",
       "       'pct_negative_reviews', 'distinct_payment_types',\n",
       "       'days_since_last_purchase', 'num_orders_180d', 'ltv_180d',\n",
       "       'num_canceled_orders', 'churn_flag'],\n",
       "      dtype='object')"
      ]
     },
     "execution_count": 126,
     "metadata": {},
     "output_type": "execute_result"
    }
   ],
   "source": [
    "df.columns"
   ]
  },
  {
   "cell_type": "markdown",
   "id": "2763acf2-4f31-475a-a40e-e521919efb3d",
   "metadata": {},
   "source": [
    "## Managing Missing Data"
   ]
  },
  {
   "cell_type": "code",
   "execution_count": 3,
   "id": "86fba7af-7410-451a-8e24-66cc939cef18",
   "metadata": {
    "tags": []
   },
   "outputs": [],
   "source": [
    "# df.loc[df[\"avg_review_score_180d\"].isnull(), \"avg_review_score_180d\"] = \n",
    "df[\"avg_review_score\"] = df[\"avg_review_score\"].fillna(0)\n",
    "df['days_since_last_purchase'] = df['days_since_last_purchase'].fillna(-1)"
   ]
  },
  {
   "cell_type": "code",
   "execution_count": 4,
   "id": "245a6f6a-7f37-496b-85ae-9d977bef4205",
   "metadata": {
    "tags": []
   },
   "outputs": [
    {
     "data": {
      "text/plain": [
       "customer_unique_id          0.0\n",
       "last_purchase               0.0\n",
       "num_orders                  0.0\n",
       "distinct_categories         0.0\n",
       "avg_order_value             0.0\n",
       "lifetime_value              0.0\n",
       "avg_basket_size             0.0\n",
       "pct_on_time                 0.0\n",
       "avg_review_score            0.0\n",
       "pct_negative_reviews        0.0\n",
       "distinct_payment_types      0.0\n",
       "days_since_last_purchase    0.0\n",
       "num_orders_180d             0.0\n",
       "ltv_180d                    0.0\n",
       "num_canceled_orders         0.0\n",
       "churn_flag                  0.0\n",
       "dtype: float64"
      ]
     },
     "execution_count": 4,
     "metadata": {},
     "output_type": "execute_result"
    }
   ],
   "source": [
    "df.isnull().sum()/df.shape[0]"
   ]
  },
  {
   "cell_type": "code",
   "execution_count": 60,
   "id": "76dba7fa-e9a6-4a04-8ad7-7019c1d07c13",
   "metadata": {
    "tags": []
   },
   "outputs": [],
   "source": [
    "# df[df['days_since_last_purchase'].isnull()]"
   ]
  },
  {
   "cell_type": "code",
   "execution_count": 107,
   "id": "e4472a25-3a4e-4cdf-a6b4-dc099818a5ef",
   "metadata": {
    "tags": []
   },
   "outputs": [
    {
     "data": {
      "text/plain": [
       "churn_flag\n",
       "1    67759\n",
       "0      584\n",
       "Name: count, dtype: Int64"
      ]
     },
     "execution_count": 107,
     "metadata": {},
     "output_type": "execute_result"
    }
   ],
   "source": [
    "df['churn_flag'].value_counts(normalize=False)"
   ]
  },
  {
   "cell_type": "code",
   "execution_count": 101,
   "id": "c8797676-7458-49d3-a0a4-2f060bf204e0",
   "metadata": {
    "tags": []
   },
   "outputs": [
    {
     "data": {
      "text/plain": [
       "Index(['customer_unique_id', 'last_purchase', 'num_orders',\n",
       "       'distinct_categories', 'avg_order_value', 'lifetime_value',\n",
       "       'avg_basket_size', 'pct_on_time', 'avg_review_score',\n",
       "       'pct_negative_reviews', 'distinct_payment_types',\n",
       "       'days_since_last_purchase', 'num_orders_180d', 'ltv_180d',\n",
       "       'num_canceled_orders', 'churn_flag'],\n",
       "      dtype='object')"
      ]
     },
     "execution_count": 101,
     "metadata": {},
     "output_type": "execute_result"
    }
   ],
   "source": [
    "df.columns"
   ]
  },
  {
   "cell_type": "markdown",
   "id": "c7f492d6-f351-4e30-a4d3-cb27f85fbc07",
   "metadata": {},
   "source": [
    "## Data Training Preparation"
   ]
  },
  {
   "cell_type": "code",
   "execution_count": 5,
   "id": "8eb4a534-8876-498c-b665-9b5ce8a777d9",
   "metadata": {},
   "outputs": [],
   "source": [
    "# Define the target variable (what we want to predict)\n",
    "TARGET = 'churn_flag'\n",
    "\n",
    "# Define features (exclude unique IDs, timestamps, and the target itself)\n",
    "# Ensure you replace these placeholders with the actual column names from your final SQL table\n",
    "FEATURES = [\n",
    "        'num_orders',\n",
    "       'distinct_categories', 'avg_order_value', 'lifetime_value',\n",
    "       'avg_basket_size', 'pct_on_time', 'days_since_last_purchase', \n",
    "       'avg_review_score', 'pct_negative_reviews', 'distinct_payment_types',\n",
    "       'num_orders_180d','ltv_180d', 'num_canceled_orders'\n",
    "]\n",
    "\n",
    "# Split data into X (features) and y (target)\n",
    "X = df[FEATURES]\n",
    "y = df[TARGET]"
   ]
  },
  {
   "cell_type": "code",
   "execution_count": 6,
   "id": "e9731018-8abb-457b-884b-11e1c18ae818",
   "metadata": {
    "tags": []
   },
   "outputs": [],
   "source": [
    "# y_train['is_churn_90d_forecast'].value_counts(normalize=True)"
   ]
  },
  {
   "cell_type": "code",
   "execution_count": 7,
   "id": "997ae671-a902-4c1b-a668-39832069fe2b",
   "metadata": {
    "tags": []
   },
   "outputs": [
    {
     "name": "stdout",
     "output_type": "stream",
     "text": [
      "New Train Churn Ratio: 0.9915\n",
      "New Test Churn Ratio: 0.9914\n"
     ]
    }
   ],
   "source": [
    "from sklearn.model_selection import train_test_split\n",
    "\n",
    "# Use the full dataset (X, y) \n",
    "# The model will still be PIT-correct because the features were built PIT-correctly.\n",
    "\n",
    "X_train, X_test, y_train, y_test = train_test_split(\n",
    "    X, y, \n",
    "    test_size=0.2, \n",
    "    random_state=6199, \n",
    "    # Use stratification to ensure both sets have the same (imbalanced) ratio (~0.72% Churn)\n",
    "    stratify=y \n",
    ")\n",
    "\n",
    "print(f\"New Train Churn Ratio: {y_train.mean():.4f}\")\n",
    "print(f\"New Test Churn Ratio: {y_test.mean():.4f}\")"
   ]
  },
  {
   "cell_type": "markdown",
   "id": "aa9339c4-9a57-4ff1-8fae-2bb07243ef07",
   "metadata": {},
   "source": [
    "## XGBoost Model Training & Evaluation"
   ]
  },
  {
   "cell_type": "code",
   "execution_count": 23,
   "id": "bb0c8d01-3439-470f-847a-1db9104a5666",
   "metadata": {
    "tags": []
   },
   "outputs": [
    {
     "data": {
      "text/plain": [
       "116.07494646680942"
      ]
     },
     "execution_count": 23,
     "metadata": {},
     "output_type": "execute_result"
    }
   ],
   "source": [
    "1/(y_train.value_counts()[0]/y_train.value_counts()[1])"
   ]
  },
  {
   "cell_type": "code",
   "execution_count": 9,
   "id": "19e4bb6f-34bc-4d63-b22b-0b9b0144faf1",
   "metadata": {
    "tags": []
   },
   "outputs": [
    {
     "name": "stdout",
     "output_type": "stream",
     "text": [
      "Starting XGBoost training...\n",
      "Training complete.\n"
     ]
    }
   ],
   "source": [
    "import xgboost as xgb\n",
    "from sklearn.metrics import f1_score, precision_score, recall_score, roc_auc_score, average_precision_score, auc, precision_recall_curve\n",
    "imbalanced_ratio = y_train.value_counts()[0]/y_train.value_counts()[1]\n",
    "# Initialize XGBoost Classifier\n",
    "# Common hyperparameters for churn:\n",
    "model = xgb.XGBClassifier(\n",
    "    objective='binary:logistic',\n",
    "    eval_metric='logloss',\n",
    "    n_estimators=100,             # Number of trees\n",
    "    learning_rate=0.1,            # Step size shrinkage\n",
    "    max_depth=5,                  # Tree depth\n",
    "    scale_pos_weight=imbalanced_ratio, # Handle class imbalance\n",
    "    random_state=42,\n",
    "    n_jobs=-1\n",
    ")\n",
    "\n",
    "# Train the model\n",
    "print(\"Starting XGBoost training...\")\n",
    "model.fit(X_train, y_train)\n",
    "print(\"Training complete.\")"
   ]
  },
  {
   "cell_type": "code",
   "execution_count": 10,
   "id": "d523bddd-926e-40d5-a0d8-f19b3d03a290",
   "metadata": {
    "tags": []
   },
   "outputs": [
    {
     "name": "stdout",
     "output_type": "stream",
     "text": [
      "\n",
      "--- Model Evaluation (on unseen chronological test data) ---\n",
      "F1-Score: 0.8576\n",
      "Precision: 0.9919\n",
      "Recall: 0.7554\n",
      "ROC AUC: 0.5459\n",
      "PR AUC: 0.9928\n",
      "PR AUC T: 0.9928\n"
     ]
    }
   ],
   "source": [
    "# Predict probabilities (needed for ROC AUC)\n",
    "y_prob = model.predict_proba(X_test)[:, 1]\n",
    "\n",
    "# Predict classes (using a standard 0.5 threshold)\n",
    "y_pred = model.predict(X_test)\n",
    "\n",
    "# Calculate Metrics\n",
    "f1 = f1_score(y_test, y_pred)\n",
    "precision = precision_score(y_test, y_pred)\n",
    "recall = recall_score(y_test, y_pred)\n",
    "auc_roc = roc_auc_score(y_test, y_prob)\n",
    "precision_curve, recall_curve, thresholds = precision_recall_curve(y_test, y_prob)\n",
    "pr_auc = auc(recall_curve, precision_curve)\n",
    "pr_auc_t = average_precision_score(y_test, y_prob)\n",
    "\n",
    "print(\"\\n--- Model Evaluation (on unseen chronological test data) ---\")\n",
    "print(f\"F1-Score: {f1:.4f}\")\n",
    "print(f\"Precision: {precision:.4f}\")\n",
    "print(f\"Recall: {recall:.4f}\")\n",
    "print(f\"ROC AUC: {auc_roc:.4f}\")\n",
    "print(f\"PR AUC: {pr_auc:.4f}\")\n",
    "print(f\"PR AUC T: {pr_auc_t:.4f}\")"
   ]
  },
  {
   "cell_type": "code",
   "execution_count": 14,
   "id": "cb34016f-e76d-49e6-bb59-e81d794f8cc4",
   "metadata": {
    "tags": []
   },
   "outputs": [
    {
     "data": {
      "image/png": "[encoded data removed]",
      "text/plain": [
       "<Figure size 640x480 with 2 Axes>"
      ]
     },
     "metadata": {},
     "output_type": "display_data"
    }
   ],
   "source": [
    "from sklearn.metrics import confusion_matrix, ConfusionMatrixDisplay\n",
    "cm = confusion_matrix(y_test, y_pred)\n",
    "disp = ConfusionMatrixDisplay(confusion_matrix=cm, display_labels=model.classes_)\n",
    "disp.plot(cmap=plt.cm.Blues)\n",
    "plt.title(\"Confusion Matrix\")\n",
    "plt.show()"
   ]
  },
  {
   "cell_type": "code",
   "execution_count": 15,
   "id": "e760f8c2-0f95-45a6-9a5e-1153fde2eac8",
   "metadata": {
    "tags": []
   },
   "outputs": [
    {
     "name": "stdout",
     "output_type": "stream",
     "text": [
      "[[   33    84]\n",
      " [ 3315 10237]]\n"
     ]
    }
   ],
   "source": [
    "print(cm)"
   ]
  },
  {
   "cell_type": "code",
   "execution_count": 16,
   "id": "7bfa6b73-e20f-42a8-9261-aab196960244",
   "metadata": {
    "tags": []
   },
   "outputs": [
    {
     "data": {
      "image/png": "[encoded data removed]",
      "text/plain": [
       "<Figure size 640x480 with 1 Axes>"
      ]
     },
     "metadata": {},
     "output_type": "display_data"
    }
   ],
   "source": [
    "from sklearn.metrics import precision_recall_curve, PrecisionRecallDisplay, auc\n",
    "# Compute precision, recall, and thresholds\n",
    "# precision, recall, _ = precision_recall_curve(y_test, y_scores)\n",
    "# pr_auc = auc(recall, precision)\n",
    "\n",
    "# Plot the Precision-Recall curve\n",
    "disp = PrecisionRecallDisplay(precision=precision_curve, recall=recall_curve, estimator_name=\"XGBoost\")\n",
    "disp.plot()\n",
    "plt.title(f\"Precision-Recall Curve (AUC = {pr_auc:.2f})\")\n",
    "plt.show()"
   ]
  },
  {
   "cell_type": "code",
   "execution_count": 17,
   "id": "ea4e7556-6f5e-43f7-8650-a99707c9e7c2",
   "metadata": {
    "tags": []
   },
   "outputs": [
    {
     "name": "stdout",
     "output_type": "stream",
     "text": [
      "\n",
      "--- Top Feature Importances ---\n",
      "num_orders                  0.251420\n",
      "distinct_payment_types      0.090828\n",
      "pct_on_time                 0.090711\n",
      "days_since_last_purchase    0.083564\n",
      "ltv_180d                    0.077656\n",
      "avg_order_value             0.073880\n",
      "lifetime_value              0.071959\n",
      "avg_basket_size             0.070971\n",
      "avg_review_score            0.061903\n",
      "pct_negative_reviews        0.057420\n",
      "distinct_categories         0.053867\n",
      "num_orders_180d             0.015821\n",
      "num_canceled_orders         0.000000\n",
      "dtype: float32\n"
     ]
    }
   ],
   "source": [
    "# Display feature importance\n",
    "importance = pd.Series(model.feature_importances_, index=FEATURES).sort_values(ascending=False)\n",
    "print(\"\\n--- Top Feature Importances ---\")\n",
    "print(importance)"
   ]
  },
  {
   "cell_type": "code",
   "execution_count": 22,
   "id": "7d37219a-e3d8-4002-b77d-3e15225fba05",
   "metadata": {
    "tags": []
   },
   "outputs": [
    {
     "data": {
      "image/png": "[encoded data removed]",
      "text/plain": [
       "<Figure size 640x480 with 1 Axes>"
      ]
     },
     "metadata": {},
     "output_type": "display_data"
    }
   ],
   "source": [
    "import matplotlib.pyplot as plt\n",
    "import seaborn as sns\n",
    "df_im = importance.rename(\"importance_score\").reset_index()\n",
    "sns.barplot(data=df_im, y=\"index\", x=\"importance_score\")\n",
    "plt.title(\"Features Importance for Churn Classification by XGBoost\", y=1.03)\n",
    "plt.show()"
   ]
  },
  {
   "cell_type": "code",
   "execution_count": 109,
   "id": "a9d0469a-8ca2-4a61-a6ce-3e41e69d7456",
   "metadata": {
    "tags": []
   },
   "outputs": [
    {
     "name": "stdout",
     "output_type": "stream",
     "text": [
      "Mean Calibrated Probability: 0.0169 (Must be near 0.0072)\n",
      "Corrected Calibrated ROC AUC: 0.5675\n",
      "Corrected Calibrated PR AUC: 0.9932\n"
     ]
    }
   ],
   "source": [
    "import numpy as np\n",
    "from sklearn.metrics import roc_auc_score, average_precision_score\n",
    "\n",
    "# 1. Use the correct, large ratio for un-biasing\n",
    "R_xgboost_correct = model.get_params().get('scale_pos_weight') # Use the value you calculated in Step 1\n",
    "\n",
    "# 2. Get the raw (biased) probabilities\n",
    "y_prob_biased = model.predict_proba(X_test)[:, 1]\n",
    "\n",
    "# 3. Apply the calibration\n",
    "y_prob_calibrated = y_prob_biased / (y_prob_biased + (1 - y_prob_biased) / R_xgboost_correct)\n",
    "\n",
    "# 4. Check for leakage and evaluate performance\n",
    "calibrated_roc_auc = roc_auc_score(y_test, y_prob_calibrated)\n",
    "calibrated_pr_auc = average_precision_score(y_test, y_prob_calibrated) \n",
    "\n",
    "print(f\"Mean Calibrated Probability: {np.mean(y_prob_calibrated):.4f} (Must be near 0.0072)\")\n",
    "print(f\"Corrected Calibrated ROC AUC: {calibrated_roc_auc:.4f}\")\n",
    "print(f\"Corrected Calibrated PR AUC: {calibrated_pr_auc:.4f}\")"
   ]
  },
  {
   "cell_type": "markdown",
   "id": "f24d0378-d8c2-4cfb-b9bf-f31a155a38b5",
   "metadata": {},
   "source": [
    "## Model Comparison"
   ]
  },
  {
   "cell_type": "code",
   "execution_count": 147,
   "id": "5252988b-d6c4-4c2a-8ff0-f6d951521029",
   "metadata": {},
   "outputs": [],
   "source": [
    "from sklearn.tree import DecisionTreeClassifier\n",
    "from sklearn.ensemble import AdaBoostClassifier, RandomForestClassifier\n",
    "from sklearn.gaussian_process import GaussianProcessClassifier\n",
    "from sklearn.svm import SVC\n",
    "from sklearn.linear_model import LogisticRegression\n",
    "\n",
    "from sklearn.metrics import confusion_matrix, ConfusionMatrixDisplay"
   ]
  },
  {
   "cell_type": "code",
   "execution_count": 152,
   "id": "c3931b9d-1e99-4c53-aba1-7ea3c0b07292",
   "metadata": {},
   "outputs": [],
   "source": [
    "model_dict = {\n",
    "    \"Logistic Regression\": LogisticRegression(random_state= 6199),\n",
    "    \"Decision Tree\": DecisionTreeClassifier(max_depth=5, random_state=6199)\n",
    "    \"Adaptive Boosting\": AdaBoostClassifier(random_state=6199),\n",
    "    \"Random Forest\" : RandomForestClassifier(n_estimators= 100, max_depth=5, random_state=6199)\n",
    "    # \"XGBoost\" : XGB\n",
    "}"
   ]
  },
  {
   "cell_type": "code",
   "execution_count": null,
   "id": "7119ae01-007c-4c95-8733-e2e16837218e",
   "metadata": {},
   "outputs": [],
   "source": []
  }
 ],
 "metadata": {
  "environment": {
   "kernel": "conda-base-py",
   "name": "workbench-notebooks.m133",
   "type": "gcloud",
   "uri": "us-docker.pkg.dev/deeplearning-platform-release/gcr.io/workbench-notebooks:m133"
  },
  "kernelspec": {
   "display_name": "Python 3 (ipykernel) (Local)",
   "language": "python",
   "name": "conda-base-py"
  },
  "language_info": {
   "codemirror_mode": {
    "name": "ipython",
    "version": 3
   },
   "file_extension": ".py",
   "mimetype": "text/x-python",
   "name": "python",
   "nbconvert_exporter": "python",
   "pygments_lexer": "ipython3",
   "version": "3.10.18"
  }
 },
 "nbformat": 4,
 "nbformat_minor": 5
}
